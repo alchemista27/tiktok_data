# import data libraries
import pandas as pd
import numpy as np
import seaborn as sns
import matplotlib.pyplot as plt

# Load data
data = pd.read_csv('data/tiktok_dataset.csv', index_col='#')
data.head()



